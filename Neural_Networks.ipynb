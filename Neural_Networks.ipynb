{
  "cells": [
    {
      "cell_type": "markdown",
      "metadata": {
        "id": "KGGXyc815VHO"
      },
      "source": [
        "# Week-2 Assignment - Neural Networks\n",
        "Bhavesh sandbhor 22b2446"
      ]
    },
    {
      "cell_type": "code",
      "execution_count": 1,
      "metadata": {
        "id": "2WZt3o_1JdzO"
      },
      "outputs": [
        {
          "name": "stdout",
          "output_type": "stream",
          "text": [
            "WARNING:tensorflow:From c:\\Users\\HP\\Anaconda3\\Lib\\site-packages\\keras\\src\\losses.py:2976: The name tf.losses.sparse_softmax_cross_entropy is deprecated. Please use tf.compat.v1.losses.sparse_softmax_cross_entropy instead.\n",
            "\n"
          ]
        }
      ],
      "source": [
        "import tensorflow as tf\n",
        "from tensorflow import keras\n",
        "from tensorflow.keras import layers"
      ]
    },
    {
      "cell_type": "code",
      "execution_count": 5,
      "metadata": {
        "colab": {
          "base_uri": "https://localhost:8080/"
        },
        "id": "Hdt-xIBWLdFo",
        "outputId": "9017991c-18ce-454d-f418-cfa3d7673ccd"
      },
      "outputs": [
        {
          "name": "stdout",
          "output_type": "stream",
          "text": [
            "Found 269 files belonging to 2 classes.\n"
          ]
        }
      ],
      "source": [
        "data = tf.keras.preprocessing.image_dataset_from_directory(\n",
        "    \"data\",\n",
        "    labels = 'inferred',  \n",
        "    label_mode = \"binary\", \n",
        "    image_size=(64, 64),\n",
        "    seed=42,\n",
        ")"
      ]
    },
    {
      "cell_type": "code",
      "execution_count": 6,
      "metadata": {
        "id": "c9DfZ-teMS4z"
      },
      "outputs": [],
      "source": [
        "train_data = data.take(8)\n",
        "test_data = data.skip(8)\n",
        "\n",
        "train_data = train_data.cache().shuffle(1000).prefetch(buffer_size=tf.data.AUTOTUNE)\n",
        "test_data = test_data.cache().shuffle(1000).prefetch(buffer_size=tf.data.AUTOTUNE)\n"
      ]
    },
    {
      "cell_type": "code",
      "execution_count": 7,
      "metadata": {
        "id": "mDsFfH9dkIeI"
      },
      "outputs": [
        {
          "name": "stdout",
          "output_type": "stream",
          "text": [
            "WARNING:tensorflow:From c:\\Users\\HP\\Anaconda3\\Lib\\site-packages\\keras\\src\\backend.py:873: The name tf.get_default_graph is deprecated. Please use tf.compat.v1.get_default_graph instead.\n",
            "\n"
          ]
        }
      ],
      "source": [
        "# Rescaling with keras Sequential\n",
        "preprocess = tf.keras.Sequential([\n",
        "    layers.Rescaling(1/255.0)\n",
        "])"
      ]
    },
    {
      "cell_type": "code",
      "execution_count": 8,
      "metadata": {
        "id": "4UrffiNWaKqI"
      },
      "outputs": [],
      "source": [
        "from keras import Sequential\n",
        "model = Sequential(\n",
        "    [\n",
        "    layers.Input(shape=(64, 64, 3)),\n",
        "    layers.Flatten(),  # Flatten the input before the Dense layers\n",
        "    layers.Dense(512, activation='relu'),\n",
        "    layers.Dense(256, activation='relu'),\n",
        "    layers.Dense(128, activation='relu'),\n",
        "    layers.Dense(64, activation='relu'),\n",
        "    layers.Dense(1, activation=\"sigmoid\"),\n",
        "    ]\n",
        ")"
      ]
    },
    {
      "cell_type": "code",
      "execution_count": 9,
      "metadata": {
        "id": "5DIfsZqhdV-u"
      },
      "outputs": [],
      "source": [
        "model.compile(\n",
        "    optimizer=keras.optimizers.Adam(),  # Using keras.optimizers\n",
        "    loss = [\n",
        "        keras.losses.BinaryCrossentropy(),\n",
        "    ],\n",
        "    metrics = [\"accuracy\"],\n",
        ")\n"
      ]
    },
    {
      "cell_type": "code",
      "execution_count": 10,
      "metadata": {
        "colab": {
          "base_uri": "https://localhost:8080/"
        },
        "id": "IM16ImaJ89CT",
        "outputId": "f2ba5eaf-9185-4c53-bb49-d4b00c448c66"
      },
      "outputs": [
        {
          "name": "stdout",
          "output_type": "stream",
          "text": [
            "Epoch 1/50\n",
            "WARNING:tensorflow:From c:\\Users\\HP\\Anaconda3\\Lib\\site-packages\\keras\\src\\utils\\tf_utils.py:492: The name tf.ragged.RaggedTensorValue is deprecated. Please use tf.compat.v1.ragged.RaggedTensorValue instead.\n",
            "\n",
            "WARNING:tensorflow:From c:\\Users\\HP\\Anaconda3\\Lib\\site-packages\\keras\\src\\engine\\base_layer_utils.py:384: The name tf.executing_eagerly_outside_functions is deprecated. Please use tf.compat.v1.executing_eagerly_outside_functions instead.\n",
            "\n",
            "8/8 [==============================] - 6s 235ms/step - loss: 804.7224 - accuracy: 0.5547 - val_loss: 327.4883 - val_accuracy: 0.6154\n",
            "Epoch 2/50\n",
            "8/8 [==============================] - 1s 140ms/step - loss: 290.1846 - accuracy: 0.5039 - val_loss: 60.1025 - val_accuracy: 0.6154\n",
            "Epoch 3/50\n",
            "8/8 [==============================] - 1s 137ms/step - loss: 221.4836 - accuracy: 0.5469 - val_loss: 219.4188 - val_accuracy: 0.3846\n",
            "Epoch 4/50\n",
            "8/8 [==============================] - 1s 138ms/step - loss: 226.7484 - accuracy: 0.5039 - val_loss: 620.7913 - val_accuracy: 0.6154\n",
            "Epoch 5/50\n",
            "8/8 [==============================] - 1s 137ms/step - loss: 445.2880 - accuracy: 0.4961 - val_loss: 218.1360 - val_accuracy: 0.6154\n",
            "Epoch 6/50\n",
            "8/8 [==============================] - 1s 141ms/step - loss: 340.1501 - accuracy: 0.5820 - val_loss: 180.4650 - val_accuracy: 0.3846\n",
            "Epoch 7/50\n",
            "8/8 [==============================] - 1s 151ms/step - loss: 79.3200 - accuracy: 0.6133 - val_loss: 61.3567 - val_accuracy: 0.6923\n",
            "Epoch 8/50\n",
            "8/8 [==============================] - 1s 148ms/step - loss: 44.1186 - accuracy: 0.6719 - val_loss: 8.3021 - val_accuracy: 0.8462\n",
            "Epoch 9/50\n",
            "8/8 [==============================] - 1s 146ms/step - loss: 18.4578 - accuracy: 0.7422 - val_loss: 27.9511 - val_accuracy: 0.8462\n",
            "Epoch 10/50\n",
            "8/8 [==============================] - 1s 159ms/step - loss: 28.6509 - accuracy: 0.7109 - val_loss: 4.4622 - val_accuracy: 0.9231\n",
            "Epoch 11/50\n",
            "8/8 [==============================] - 1s 160ms/step - loss: 9.6803 - accuracy: 0.7773 - val_loss: 4.1495 - val_accuracy: 0.7692\n",
            "Epoch 12/50\n",
            "8/8 [==============================] - 1s 167ms/step - loss: 7.1045 - accuracy: 0.8281 - val_loss: 7.6652 - val_accuracy: 0.8462\n",
            "Epoch 13/50\n",
            "8/8 [==============================] - 1s 160ms/step - loss: 3.7914 - accuracy: 0.8945 - val_loss: 6.2997 - val_accuracy: 0.8462\n",
            "Epoch 14/50\n",
            "8/8 [==============================] - 1s 154ms/step - loss: 5.8846 - accuracy: 0.8477 - val_loss: 0.1080 - val_accuracy: 0.9231\n",
            "Epoch 15/50\n",
            "8/8 [==============================] - 1s 158ms/step - loss: 10.1073 - accuracy: 0.7969 - val_loss: 3.3329 - val_accuracy: 0.8462\n",
            "Epoch 16/50\n",
            "8/8 [==============================] - 1s 166ms/step - loss: 2.0281 - accuracy: 0.9141 - val_loss: 6.0718e-05 - val_accuracy: 1.0000\n",
            "Epoch 17/50\n",
            "8/8 [==============================] - 1s 148ms/step - loss: 1.5359 - accuracy: 0.9023 - val_loss: 4.7289 - val_accuracy: 0.6923\n",
            "Epoch 18/50\n",
            "8/8 [==============================] - 1s 150ms/step - loss: 10.9194 - accuracy: 0.7109 - val_loss: 0.2994 - val_accuracy: 0.9231\n",
            "Epoch 19/50\n",
            "8/8 [==============================] - 1s 154ms/step - loss: 4.5941 - accuracy: 0.8633 - val_loss: 3.2836 - val_accuracy: 0.9231\n",
            "Epoch 20/50\n",
            "8/8 [==============================] - 1s 149ms/step - loss: 1.3201 - accuracy: 0.9297 - val_loss: 5.4848e-05 - val_accuracy: 1.0000\n",
            "Epoch 21/50\n",
            "8/8 [==============================] - 1s 146ms/step - loss: 1.0769 - accuracy: 0.9258 - val_loss: 0.4700 - val_accuracy: 0.9231\n",
            "Epoch 22/50\n",
            "8/8 [==============================] - 1s 145ms/step - loss: 0.5843 - accuracy: 0.9609 - val_loss: 0.8305 - val_accuracy: 0.9231\n",
            "Epoch 23/50\n",
            "8/8 [==============================] - 1s 140ms/step - loss: 0.2228 - accuracy: 0.9727 - val_loss: 2.8232e-12 - val_accuracy: 1.0000\n",
            "Epoch 24/50\n",
            "8/8 [==============================] - 1s 137ms/step - loss: 0.0785 - accuracy: 0.9883 - val_loss: 2.4191e-04 - val_accuracy: 1.0000\n",
            "Epoch 25/50\n",
            "8/8 [==============================] - 1s 138ms/step - loss: 5.2111 - accuracy: 0.8438 - val_loss: 4.7547 - val_accuracy: 0.6154\n",
            "Epoch 26/50\n",
            "8/8 [==============================] - 1s 144ms/step - loss: 6.6680 - accuracy: 0.7617 - val_loss: 1.4732 - val_accuracy: 0.9231\n",
            "Epoch 27/50\n",
            "8/8 [==============================] - 1s 145ms/step - loss: 7.3209 - accuracy: 0.8281 - val_loss: 14.3903 - val_accuracy: 0.5385\n",
            "Epoch 28/50\n",
            "8/8 [==============================] - 1s 145ms/step - loss: 10.4121 - accuracy: 0.7891 - val_loss: 9.2745 - val_accuracy: 0.8462\n",
            "Epoch 29/50\n",
            "8/8 [==============================] - 1s 140ms/step - loss: 5.2086 - accuracy: 0.8711 - val_loss: 0.6274 - val_accuracy: 0.9231\n",
            "Epoch 30/50\n",
            "8/8 [==============================] - 1s 143ms/step - loss: 10.6647 - accuracy: 0.7969 - val_loss: 1.9245 - val_accuracy: 0.9231\n",
            "Epoch 31/50\n",
            "8/8 [==============================] - 1s 136ms/step - loss: 14.4538 - accuracy: 0.7539 - val_loss: 9.4450 - val_accuracy: 0.7692\n",
            "Epoch 32/50\n",
            "8/8 [==============================] - 1s 138ms/step - loss: 5.7624 - accuracy: 0.8750 - val_loss: 3.6728 - val_accuracy: 0.9231\n",
            "Epoch 33/50\n",
            "8/8 [==============================] - 1s 135ms/step - loss: 2.3192 - accuracy: 0.9219 - val_loss: 3.0915 - val_accuracy: 0.9231\n",
            "Epoch 34/50\n",
            "8/8 [==============================] - 1s 142ms/step - loss: 7.6951 - accuracy: 0.8359 - val_loss: 1.2717 - val_accuracy: 0.8462\n",
            "Epoch 35/50\n",
            "8/8 [==============================] - 1s 149ms/step - loss: 12.3268 - accuracy: 0.8047 - val_loss: 8.5845 - val_accuracy: 0.7692\n",
            "Epoch 36/50\n",
            "8/8 [==============================] - 1s 143ms/step - loss: 2.7721 - accuracy: 0.9023 - val_loss: 3.8657e-11 - val_accuracy: 1.0000\n",
            "Epoch 37/50\n",
            "8/8 [==============================] - 1s 138ms/step - loss: 1.6949 - accuracy: 0.8828 - val_loss: 1.7592 - val_accuracy: 0.9231\n",
            "Epoch 38/50\n",
            "8/8 [==============================] - 1s 138ms/step - loss: 2.8966 - accuracy: 0.9062 - val_loss: 1.2685 - val_accuracy: 0.8462\n",
            "Epoch 39/50\n",
            "8/8 [==============================] - 1s 143ms/step - loss: 0.4984 - accuracy: 0.9648 - val_loss: 1.4322e-12 - val_accuracy: 1.0000\n",
            "Epoch 40/50\n",
            "8/8 [==============================] - 1s 140ms/step - loss: 0.0267 - accuracy: 0.9961 - val_loss: 4.6863e-04 - val_accuracy: 1.0000\n",
            "Epoch 41/50\n",
            "8/8 [==============================] - 1s 131ms/step - loss: 0.0487 - accuracy: 0.9961 - val_loss: 1.4576e-17 - val_accuracy: 1.0000\n",
            "Epoch 42/50\n",
            "8/8 [==============================] - 1s 132ms/step - loss: 0.5110 - accuracy: 0.9648 - val_loss: 0.0027 - val_accuracy: 1.0000\n",
            "Epoch 43/50\n",
            "8/8 [==============================] - 1s 142ms/step - loss: 0.8121 - accuracy: 0.9688 - val_loss: 3.9124 - val_accuracy: 0.8462\n",
            "Epoch 44/50\n",
            "8/8 [==============================] - 1s 135ms/step - loss: 1.4593 - accuracy: 0.9375 - val_loss: 2.4719 - val_accuracy: 0.8462\n",
            "Epoch 45/50\n",
            "8/8 [==============================] - 1s 151ms/step - loss: 0.4329 - accuracy: 0.9609 - val_loss: 1.0862 - val_accuracy: 0.9231\n",
            "Epoch 46/50\n",
            "8/8 [==============================] - 1s 157ms/step - loss: 0.2331 - accuracy: 0.9844 - val_loss: 3.7916e-06 - val_accuracy: 1.0000\n",
            "Epoch 47/50\n",
            "8/8 [==============================] - 1s 162ms/step - loss: 0.0222 - accuracy: 0.9961 - val_loss: 2.6263e-18 - val_accuracy: 1.0000\n",
            "Epoch 48/50\n",
            "8/8 [==============================] - 1s 151ms/step - loss: 0.0017 - accuracy: 1.0000 - val_loss: 6.7966e-12 - val_accuracy: 1.0000\n",
            "Epoch 49/50\n",
            "8/8 [==============================] - 1s 158ms/step - loss: 0.0024 - accuracy: 1.0000 - val_loss: 1.8856e-16 - val_accuracy: 1.0000\n",
            "Epoch 50/50\n",
            "8/8 [==============================] - 1s 156ms/step - loss: 2.6650e-11 - accuracy: 1.0000 - val_loss: 4.9716e-15 - val_accuracy: 1.0000\n"
          ]
        },
        {
          "data": {
            "text/plain": [
              "<keras.src.callbacks.History at 0x20012821c10>"
            ]
          },
          "execution_count": 10,
          "metadata": {},
          "output_type": "execute_result"
        }
      ],
      "source": [
        "\n",
        "NUM_EPOCHS = 50\n",
        "BATCH_SIZE = 32\n",
        "\n",
        "model.fit(train_data,\n",
        "          epochs=NUM_EPOCHS,\n",
        "          batch_size = BATCH_SIZE,\n",
        "          verbose=1,\n",
        "          validation_data = test_data)"
      ]
    },
    {
      "cell_type": "code",
      "execution_count": 12,
      "metadata": {
        "colab": {
          "base_uri": "https://localhost:8080/"
        },
        "id": "QYva2rcO-TYe",
        "outputId": "0d3a32de-2cd1-42ca-ab27-23c11cd560d1"
      },
      "outputs": [
        {
          "name": "stdout",
          "output_type": "stream",
          "text": [
            "1/1 [==============================] - 0s 45ms/step - loss: 4.9716e-15 - accuracy: 1.0000\n",
            "The Test accuracy of the model is 1.00%\n"
          ]
        }
      ],
      "source": [
        "test_loass ,test_accuracy = model.evaluate(test_data,\n",
        "                                           verbose=1)\n",
        "print(f\"The Test accuracy of the model is {test_accuracy:.2f}%\")"
      ]
    },
    {
      "cell_type": "code",
      "execution_count": null,
      "metadata": {
        "id": "5GzJlItfms5O"
      },
      "outputs": [],
      "source": []
    }
  ],
  "metadata": {
    "accelerator": "GPU",
    "colab": {
      "gpuType": "T4",
      "provenance": []
    },
    "kernelspec": {
      "display_name": "Python 3",
      "name": "python3"
    },
    "language_info": {
      "codemirror_mode": {
        "name": "ipython",
        "version": 3
      },
      "file_extension": ".py",
      "mimetype": "text/x-python",
      "name": "python",
      "nbconvert_exporter": "python",
      "pygments_lexer": "ipython3",
      "version": "3.11.5"
    }
  },
  "nbformat": 4,
  "nbformat_minor": 0
}
